{
  "nbformat": 4,
  "nbformat_minor": 0,
  "metadata": {
    "saveOutput": true,
    "language_info": {
      "name": "scala"
    },
    "colab": {
      "name": "Copy of Hitchhikers Guide to Hyperspace.ipynb",
      "provenance": [],
      "include_colab_link": true
    }
  },
  "cells": [
    {
      "cell_type": "markdown",
      "metadata": {
        "id": "view-in-github",
        "colab_type": "text"
      },
      "source": [
        "<a href=\"https://colab.research.google.com/github/pratjz/Spark/blob/master/Hitchhikers_Guide_to_Hyperspace.ipynb\" target=\"_parent\"><img src=\"https://colab.research.google.com/assets/colab-badge.svg\" alt=\"Open In Colab\"/></a>"
      ]
    },
    {
      "cell_type": "markdown",
      "metadata": {
        "id": "4PziYN3vmIwD"
      },
      "source": [
        "## Hitchhiker's Guide to Hyperspace - An Indexing Subsystem for Apache Spark™\n",
        "Hyperspace introduces the ability for Apache Spark™ users to create indexes on their datasets (e.g., CSV, JSON, Parquet etc.) and leverage them for potential query and workload acceleration.\n",
        "\n",
        "In this notebook, we highlight the basics of Hyperspace, emphasizing on its simplicity and shows how it can be used by just anyone.\n",
        "\n",
        "**Disclaimer**: Hyperspace helps accelerate your workloads/queries under two circumstances:\n",
        "\n",
        "  1. Queries contain filters on predicates with high selectivity (e.g., you want to select 100 matching rows from a million candidate rows)\n",
        "  2. Queries contain a join that requires heavy-shuffles (e.g., you want to join a 100 GB dataset with a 10 GB dataset)\n",
        "\n",
        "You may want to carefully monitor your workloads and determine whether indexing is helping you on a case-by-case basis."
      ]
    },
    {
      "cell_type": "markdown",
      "metadata": {
        "id": "xureWyTXmIwM"
      },
      "source": [
        "## Setup\n",
        "To begin with, let's start a new Spark™ session. Since this notebook is a tutorial merely to illustrate what Hyperspace can offer, we will make a configuration change that allow us to highlight what Hyperspace is doing on small datasets. By default, Spark™ uses *broadcast join* to optimize join queries when the data size for one side of join is small (which is the case for the sample data we use in this tutorial). Therefore, we disable broadcast joins so that later when we run join queries, Spark™ uses *sort-merge* join. This is mainly to show how Hyperspace indexes would be used at scale for accelerating join queries.\n",
        "\n",
        "The output of running the cell below shows a reference to the successfully created Spark™ session and prints out '-1' as the value for the modified join config which indicates that broadcast join is successfully disabled."
      ]
    },
    {
      "cell_type": "code",
      "metadata": {
        "id": "jL44MCQ_mIwN",
        "outputId": "93b59920-c913-43bf-b77b-35e089633016"
      },
      "source": [
        "// Start your Spark™ session\n",
        "spark\n",
        "\n",
        "// Disable BroadcastHashJoin, so Spark™ will use standard SortMergeJoin. Currently hyperspace indexes utilize SortMergeJoin to speed up query.\n",
        "spark.conf.set(\"spark.sql.autoBroadcastJoinThreshold\", -1)\n",
        "\n",
        "// Verify that BroadcastHashJoin is set correctly \n",
        "println(spark.conf.get(\"spark.sql.autoBroadcastJoinThreshold\"))"
      ],
      "execution_count": null,
      "outputs": [
        {
          "output_type": "execute_result",
          "data": {
            "text/plain": [
              "res1: org.apache.spark.sql.SparkSession = org.apache.spark.sql.SparkSession@5eda8913\n",
              "-1"
            ]
          },
          "metadata": {
            "tags": []
          },
          "execution_count": 4
        }
      ]
    },
    {
      "cell_type": "markdown",
      "metadata": {
        "id": "mHmNshkFmIwP"
      },
      "source": [
        "## Data Preparation\n",
        "\n",
        "To prepare our environment, we will create sample data records and save them as parquet data files. While we use Parquet for illustration, you can use other formats such as CSV. In the subsequent cells, we will also demonstrate how you can create several Hyperspace indexes on this sample dataset and how one can make Spark™ use them when running queries. \n",
        "\n",
        "Our example records correspond to two datasets: *department* and *employee*. You should configure \"empLocation\" and \"deptLocation\" paths so that on the storage account they point to your desired location to save generated data files. \n",
        "\n",
        "The output of running below cell shows contents of our datasets as lists of triplets followed by references to dataFrames created to save the content of each dataset in our preferred location."
      ]
    },
    {
      "cell_type": "code",
      "metadata": {
        "id": "MidLTggdmIwP",
        "outputId": "5c17057d-af40-4a35-de68-c90fa923ea5b"
      },
      "source": [
        "import org.apache.spark.sql.DataFrame\n",
        "\n",
        "// Sample department records\n",
        "val departments = Seq(\n",
        "      (10, \"Accounting\", \"New York\"),\n",
        "      (20, \"Research\", \"Dallas\"),\n",
        "      (30, \"Sales\", \"Chicago\"),\n",
        "      (40, \"Operations\", \"Boston\"))\n",
        "\n",
        "// Sample employee records\n",
        "val employees = Seq(\n",
        "      (7369, \"SMITH\", 20),\n",
        "      (7499, \"ALLEN\", 30),\n",
        "      (7521, \"WARD\", 30),\n",
        "      (7566, \"JONES\", 20),\n",
        "      (7698, \"BLAKE\", 30),\n",
        "      (7782, \"CLARK\", 10),\n",
        "      (7788, \"SCOTT\", 20),\n",
        "      (7839, \"KING\", 10),\n",
        "      (7844, \"TURNER\", 30),\n",
        "      (7876, \"ADAMS\", 20),\n",
        "      (7900, \"JAMES\", 30),\n",
        "      (7934, \"MILLER\", 10),\n",
        "      (7902, \"FORD\", 20),\n",
        "      (7654, \"MARTIN\", 30))\n",
        "\n",
        "// Save sample data in the Parquet format\n",
        "import spark.implicits._\n",
        "val empData: DataFrame = employees.toDF(\"empId\", \"empName\", \"deptId\")\n",
        "val deptData: DataFrame = departments.toDF(\"deptId\", \"deptName\", \"location\")\n",
        "\n",
        "val empLocation: String = \"/<yourpath>/employees.parquet\"       //TODO ** customize this location path **\n",
        "val deptLocation: String = \"/<yourpath>/departments.parquet\"     //TODO ** customize this location path **\n",
        "empData.write.mode(\"overwrite\").parquet(empLocation)\n",
        "deptData.write.mode(\"overwrite\").parquet(deptLocation)"
      ],
      "execution_count": null,
      "outputs": [
        {
          "output_type": "execute_result",
          "data": {
            "text/plain": [
              "import org.apache.spark.sql.DataFrame\n",
              "departments: Seq[(Int, String, String)] = List((10,Accounting,New York), (20,Research,Dallas), (30,Sales,Chicago), (40,Operations,Boston))\n",
              "employees: Seq[(Int, String, Int)] = List((7369,SMITH,20), (7499,ALLEN,30), (7521,WARD,30), (7566,JONES,20), (7698,BLAKE,30), (7782,CLARK,10), (7788,SCOTT,20), (7839,KING,10), (7844,TURNER,30), (7876,ADAMS,20), (7900,JAMES,30), (7934,MILLER,10), (7902,FORD,20), (7654,MARTIN,30))\n",
              "import spark.implicits._\n",
              "empData: org.apache.spark.sql.DataFrame = [empId: int, empName: string ... 1 more field]\n",
              "deptData: org.apache.spark.sql.DataFrame = [deptId: int, deptName: string ... 1 more field]\n",
              "empLocation: String = /<yourpath>/employees.parquet\n",
              "deptLocation: String = /<yourpath>/departments.parquet"
            ]
          },
          "metadata": {
            "tags": []
          },
          "execution_count": 5
        }
      ]
    },
    {
      "cell_type": "markdown",
      "metadata": {
        "id": "tVBcPpbEmIwQ"
      },
      "source": [
        "Let's verify the contents of parquet files we created above to make sure they contain expected records in correct format. We later use these data files to create Hyperspace indexes and run sample queries.\n",
        "\n",
        "Running below cell, the output displays the rows in employee and department dataFrames in a tabular form. There should be 14 employees and 4 departments, each matching with one of triplets we created in the previous cell."
      ]
    },
    {
      "cell_type": "code",
      "metadata": {
        "id": "R80xADBumIwQ",
        "outputId": "9529d5b5-c429-411d-e594-dee31db37d9b"
      },
      "source": [
        "// empLocation and deptLocation are the user defined locations above to save parquet files\n",
        "val empDF: DataFrame = spark.read.parquet(empLocation)\n",
        "val deptDF: DataFrame = spark.read.parquet(deptLocation)\n",
        "\n",
        "// Verify the data is available and correct\n",
        "empDF.show()\n",
        "deptDF.show()"
      ],
      "execution_count": null,
      "outputs": [
        {
          "output_type": "execute_result",
          "data": {
            "text/plain": [
              "empDF: org.apache.spark.sql.DataFrame = [empId: int, empName: string ... 1 more field]\n",
              "deptDF: org.apache.spark.sql.DataFrame = [deptId: int, deptName: string ... 1 more field]\n",
              "+-----+-------+------+\n",
              "|empId|empName|deptId|\n",
              "+-----+-------+------+\n",
              "| 7499|  ALLEN|    30|\n",
              "| 7521|   WARD|    30|\n",
              "| 7369|  SMITH|    20|\n",
              "| 7844| TURNER|    30|\n",
              "| 7876|  ADAMS|    20|\n",
              "| 7900|  JAMES|    30|\n",
              "| 7934| MILLER|    10|\n",
              "| 7839|   KING|    10|\n",
              "| 7566|  JONES|    20|\n",
              "| 7698|  BLAKE|    30|\n",
              "| 7782|  CLARK|    10|\n",
              "| 7788|  SCOTT|    20|\n",
              "| 7902|   FORD|    20|\n",
              "| 7654| MARTIN|    30|\n",
              "+-----+-------+------+\n",
              "\n",
              "+------+----------+--------+\n",
              "|deptId|  deptName|location|\n",
              "+------+----------+--------+\n",
              "|    10|Accounting|New York|\n",
              "|    40|Operations|  Boston|\n",
              "|    20|  Research|  Dallas|\n",
              "|    30|     Sales| Chicago|\n",
              "+------+----------+--------+"
            ]
          },
          "metadata": {
            "tags": []
          },
          "execution_count": 6
        }
      ]
    },
    {
      "cell_type": "markdown",
      "metadata": {
        "id": "oXpwwNzGmIwS"
      },
      "source": [
        "## Hello Hyperspace Index!\n",
        "Hyperspace lets users create indexes on records scanned from persisted data files. Once successfully created, an entry corresponding to the index is added to the Hyperspace's metadata. This metadata is later used by Apache Spark™'s optimizer (with our extensions) during query processing to find and use proper indexes. \n",
        "\n",
        "Once indexes are created, users can perform several actions:\n",
        "  - **Refresh** If the underlying data changes, users can refresh an existing index to capture that. \n",
        "  - **Delete** If the index is not needed, users can perform a soft-delete i.e., index is not physically deleted but is marked as 'deleted' so it is no longer used in your workloads.\n",
        "  - **Vacuum** If an index is no longer required, users can vacuum it which forces a physical deletion of the index contents and associated metadata completely from Hyperspace's metadata.\n",
        "\n",
        "Below sections show how such index management operations can be done in Hyperspace.\n",
        "\n",
        "First, we need to import the required libraries and create an instance of Hyperspace. We later use this instance to invoke different Hyperspace APIs to create indexes on our sample data and modify those indexes.\n",
        "\n",
        "Output of running below cell shows a reference to the created instance of Hyperspace."
      ]
    },
    {
      "cell_type": "code",
      "metadata": {
        "id": "6zyFZYhlmIwT",
        "outputId": "3380ef3c-cb88-47cb-f85e-e90644ec269e"
      },
      "source": [
        "// Create an instance of Hyperspace\n",
        "import com.microsoft.hyperspace._\n",
        "\n",
        "val hyperspace: Hyperspace = Hyperspace()"
      ],
      "execution_count": null,
      "outputs": [
        {
          "output_type": "execute_result",
          "data": {
            "text/plain": [
              "import com.microsoft.hyperspace._\n",
              "hyperspace: com.microsoft.hyperspace.Hyperspace = com.microsoft.hyperspace.Hyperspace@26fcb198"
            ]
          },
          "metadata": {
            "tags": []
          },
          "execution_count": 7
        }
      ]
    },
    {
      "cell_type": "markdown",
      "metadata": {
        "id": "mxPDrh3qmIwT"
      },
      "source": [
        "### Create Indexes\n",
        "To create a Hyperspace index, the user needs to provide 2 pieces of information:\n",
        "* An Apache Spark™ DataFrame which references the data to be indexed.\n",
        "* An index configuration object: IndexConfig, which specifies the *index name*, *indexed* and *included* columns of the index. \n",
        "\n",
        "We start by creating three Hyperspace indexes on our sample data: two indexes on the department dataset named \"deptIndex1\" and \"deptIndex2\", and one index on the employee dataset named 'empIndex'. \n",
        "For each index, we need a corresponding IndexConfig to capture the name along with columns lists for the indexed and included columns. Running below cell creates these indexConfigs and its output lists them.\n",
        "\n",
        "**Note**: An *index column* is a column that appears in your filters or join conditions. An *included column* is a column that appears in your select/project.\n",
        "\n",
        "For instance, in the following query:\n",
        "```sql\n",
        "SELECT X\n",
        "FROM Table\n",
        "WHERE Y = 2\n",
        "```\n",
        "X can be an *index column* and Y can be an *included column*."
      ]
    },
    {
      "cell_type": "code",
      "metadata": {
        "id": "WvTK9olzmIwU",
        "outputId": "0ef95051-d170-4af2-d6ff-4704b2c55e5e"
      },
      "source": [
        "// Create index configurations\n",
        "import com.microsoft.hyperspace.index.IndexConfig\n",
        "\n",
        "val empIndexConfig: IndexConfig = IndexConfig(\"empIndex\", Seq(\"deptId\"), Seq(\"empName\"))\n",
        "val deptIndexConfig1: IndexConfig = IndexConfig(\"deptIndex1\", Seq(\"deptId\"), Seq(\"deptName\"))\n",
        "val deptIndexConfig2: IndexConfig = IndexConfig(\"deptIndex2\", Seq(\"location\"), Seq(\"deptName\"))"
      ],
      "execution_count": null,
      "outputs": [
        {
          "output_type": "execute_result",
          "data": {
            "text/plain": [
              "import com.microsoft.hyperspace.index.IndexConfig\n",
              "empIndexConfig: com.microsoft.hyperspace.index.IndexConfig = [indexName: empIndex; indexedColumns: deptid; includedColumns: empname]\n",
              "deptIndexConfig1: com.microsoft.hyperspace.index.IndexConfig = [indexName: deptIndex1; indexedColumns: deptid; includedColumns: deptname]\n",
              "deptIndexConfig2: com.microsoft.hyperspace.index.IndexConfig = [indexName: deptIndex2; indexedColumns: location; includedColumns: deptname]"
            ]
          },
          "metadata": {
            "tags": []
          },
          "execution_count": 8
        }
      ]
    },
    {
      "cell_type": "markdown",
      "metadata": {
        "id": "mqU-b6aTmIwV"
      },
      "source": [
        "Now, we create three indexes using our index configurations. For this purpose, we invoke \"createIndex\" command on our Hyperspace instance. This command requires an index configuration and the dataFrame containing rows to be indexed.\n",
        "Running below cell creates three indexes.\n"
      ]
    },
    {
      "cell_type": "code",
      "metadata": {
        "id": "D3WdVqSUmIwV",
        "outputId": "af0525e6-aff2-4e23-8927-b7f84ab7fd3b"
      },
      "source": [
        "// Create indexes from configurations\n",
        "import com.microsoft.hyperspace.index._\n",
        "\n",
        "hyperspace.createIndex(empDF, empIndexConfig)\n",
        "hyperspace.createIndex(deptDF, deptIndexConfig1)\n",
        "hyperspace.createIndex(deptDF, deptIndexConfig2)"
      ],
      "execution_count": null,
      "outputs": [
        {
          "output_type": "execute_result",
          "data": {
            "text/plain": [
              "import com.microsoft.hyperspace.index._"
            ]
          },
          "metadata": {
            "tags": []
          },
          "execution_count": 9
        }
      ]
    },
    {
      "cell_type": "markdown",
      "metadata": {
        "id": "-2UwgrihmIwW"
      },
      "source": [
        "### List Indexes\n",
        "\n",
        "Below code shows how a user can list all available indexes in a Hyperspace instance. It uses \"indexes\" API which returns information about existing indexes as a Spark™'s DataFrame so you can perform additional operations. For instance, you can invoke valid operations on this DataFrame for checking its content or analyzing it further (for example filtering specific indexes or grouping them according to some desired property). \n",
        "\n",
        "Below cell uses DataFrame's 'show' action to fully print the rows and show details of our indexes in a tabular form. For each index, we can see all information Hyperspace has stored about it in the metadata. You will immediately notice the following:\n",
        "  - \"config.indexName\", \"config.indexedColumns\", \"config.includedColumns\" and \"status.status\" are the fields that a user normally refers to. \n",
        "  - \"dfSignature\" is automatically generated by Hyperspace and is unique for each index. Hyperspace uses this signature internally to maintain the index and exploit it at query time. \n",
        "  \n",
        "In the output below, all three indexes should have \"ACTIVE\" as status and their name, indexed columns, and included columns should match with what we defined in index configurations above.\n"
      ]
    },
    {
      "cell_type": "code",
      "metadata": {
        "id": "-MZCwClmmIwW",
        "outputId": "9c462061-c761-4bc1-98c1-79962ec6b38e"
      },
      "source": [
        "hyperspace.indexes.show"
      ],
      "execution_count": null,
      "outputs": [
        {
          "output_type": "execute_result",
          "data": {
            "text/plain": [
              "+----------+--------------+---------------+----------+--------------------+--------------------+------+\n",
              "|      name|indexedColumns|includedColumns|numBuckets|              schema|       indexLocation| state|\n",
              "+----------+--------------+---------------+----------+--------------------+--------------------+------+\n",
              "|deptIndex1|      [deptId]|     [deptName]|       200|{\"type\":\"struct\",...|abfss://data@arca...|ACTIVE|\n",
              "|deptIndex2|    [location]|     [deptName]|       200|{\"type\":\"struct\",...|abfss://data@arca...|ACTIVE|\n",
              "|  empIndex|      [deptId]|      [empName]|       200|{\"type\":\"struct\",...|abfss://data@arca...|ACTIVE|\n",
              "+----------+--------------+---------------+----------+--------------------+--------------------+------+"
            ]
          },
          "metadata": {
            "tags": []
          },
          "execution_count": 10
        }
      ]
    },
    {
      "cell_type": "markdown",
      "metadata": {
        "id": "LWX-D8Y3mIwX"
      },
      "source": [
        "### Delete Indexes\n",
        "A user can drop an existing index by using the \"deleteIndex\" API and providing the index name. Index deletion does a soft delete: It mainly updates index's status in the Hyperspace metadata from \"ACTIVE\" to \"DELETED\". This will exclude the dropped index from any future query optimization and Hyperspace no longer picks that index for any query. However, index files for a deleted index still remain available (since it is a soft-delete), so that the index could be restored if user asks for.\n",
        "\n",
        "Below cell deletes index with name \"deptIndex2\" and lists Hyperspace metadata after that. The output should be similar to above cell for \"List Indexes\" except for \"deptIndex2\" which now should have its status changed into \"DELETED\"."
      ]
    },
    {
      "cell_type": "code",
      "metadata": {
        "id": "8ObO_wt6mIwY",
        "outputId": "e37f3dd5-07ed-4a5b-9793-d5185d2372d2"
      },
      "source": [
        "hyperspace.deleteIndex(\"deptIndex2\")\n",
        "\n",
        "hyperspace.indexes.show"
      ],
      "execution_count": null,
      "outputs": [
        {
          "output_type": "execute_result",
          "data": {
            "text/plain": [
              "+----------+--------------+---------------+----------+--------------------+--------------------+-------+\n",
              "|      name|indexedColumns|includedColumns|numBuckets|              schema|       indexLocation|  state|\n",
              "+----------+--------------+---------------+----------+--------------------+--------------------+-------+\n",
              "|deptIndex1|      [deptId]|     [deptName]|       200|{\"type\":\"struct\",...|abfss://data@arca...| ACTIVE|\n",
              "|deptIndex2|    [location]|     [deptName]|       200|{\"type\":\"struct\",...|abfss://data@arca...|DELETED|\n",
              "|  empIndex|      [deptId]|      [empName]|       200|{\"type\":\"struct\",...|abfss://data@arca...| ACTIVE|\n",
              "+----------+--------------+---------------+----------+--------------------+--------------------+-------+"
            ]
          },
          "metadata": {
            "tags": []
          },
          "execution_count": 11
        }
      ]
    },
    {
      "cell_type": "markdown",
      "metadata": {
        "id": "yA5TWwr4mIwY"
      },
      "source": [
        "### Restore Indexes\n",
        "A user can use the \"restoreIndex\" API to restore a deleted index. This will bring back the latest version of index into ACTIVE status and makes it usable again for queries. Below cell shows an example of \"restoreIndex\" usage. We delete \"deptIndex1\" and restore it. The output shows \"deptIndex1\" first went into the \"DELETED\" status after invoking \"deleteIndex\" command and came back to the \"ACTIVE\" status after calling \"restoreIndex\".\n"
      ]
    },
    {
      "cell_type": "code",
      "metadata": {
        "id": "ozvSG37UmIwY",
        "outputId": "5e219679-b311-445e-8c96-af7fcb4239e2"
      },
      "source": [
        "hyperspace.deleteIndex(\"deptIndex1\")\n",
        "\n",
        "hyperspace.indexes.show\n",
        "\n",
        "hyperspace.restoreIndex(\"deptIndex1\")\n",
        "\n",
        "hyperspace.indexes.show"
      ],
      "execution_count": null,
      "outputs": [
        {
          "output_type": "execute_result",
          "data": {
            "text/plain": [
              "+----------+--------------+---------------+----------+--------------------+--------------------+-------+\n",
              "|      name|indexedColumns|includedColumns|numBuckets|              schema|       indexLocation|  state|\n",
              "+----------+--------------+---------------+----------+--------------------+--------------------+-------+\n",
              "|deptIndex1|      [deptId]|     [deptName]|       200|{\"type\":\"struct\",...|abfss://data@arca...|DELETED|\n",
              "|deptIndex2|    [location]|     [deptName]|       200|{\"type\":\"struct\",...|abfss://data@arca...|DELETED|\n",
              "|  empIndex|      [deptId]|      [empName]|       200|{\"type\":\"struct\",...|abfss://data@arca...| ACTIVE|\n",
              "+----------+--------------+---------------+----------+--------------------+--------------------+-------+\n",
              "\n",
              "+----------+--------------+---------------+----------+--------------------+--------------------+-------+\n",
              "|      name|indexedColumns|includedColumns|numBuckets|              schema|       indexLocation|  state|\n",
              "+----------+--------------+---------------+----------+--------------------+--------------------+-------+\n",
              "|deptIndex1|      [deptId]|     [deptName]|       200|{\"type\":\"struct\",...|abfss://data@arca...| ACTIVE|\n",
              "|deptIndex2|    [location]|     [deptName]|       200|{\"type\":\"struct\",...|abfss://data@arca...|DELETED|\n",
              "|  empIndex|      [deptId]|      [empName]|       200|{\"type\":\"struct\",...|abfss://data@arca...| ACTIVE|\n",
              "+----------+--------------+---------------+----------+--------------------+--------------------+-------+"
            ]
          },
          "metadata": {
            "tags": []
          },
          "execution_count": 12
        }
      ]
    },
    {
      "cell_type": "markdown",
      "metadata": {
        "id": "rlFILdsUmIwZ"
      },
      "source": [
        "### Vacuum Indexes\n",
        "The user can perform a hard-delete i.e., fully remove files and the metadata entry for a deleted index using \"vacuumIndex\" command. Once done, this action is irreversible as it physically deletes all the index files (which is why it is a hard-delete).\n",
        " \n",
        "The cell below vacuums the \"deptIndex2\" index and shows Hyperspace metadata after vaccuming. You should see metadata entries for two indexes \"deptIndex1\" and \"empIndex\" both with \"ACTIVE\" status and no entry for \"deptIndex2\"."
      ]
    },
    {
      "cell_type": "code",
      "metadata": {
        "id": "ZVn0kMUgmIwZ",
        "outputId": "ac36bc55-287e-46a6-d86b-47d76bb6377b"
      },
      "source": [
        "hyperspace.vacuumIndex(\"deptIndex2\")\n",
        "\n",
        "hyperspace.indexes.show"
      ],
      "execution_count": null,
      "outputs": [
        {
          "output_type": "execute_result",
          "data": {
            "text/plain": [
              "+----------+--------------+---------------+----------+--------------------+--------------------+------+\n",
              "|      name|indexedColumns|includedColumns|numBuckets|              schema|       indexLocation| state|\n",
              "+----------+--------------+---------------+----------+--------------------+--------------------+------+\n",
              "|deptIndex1|      [deptId]|     [deptName]|       200|{\"type\":\"struct\",...|abfss://data@arca...|ACTIVE|\n",
              "|  empIndex|      [deptId]|      [empName]|       200|{\"type\":\"struct\",...|abfss://data@arca...|ACTIVE|\n",
              "+----------+--------------+---------------+----------+--------------------+--------------------+------+"
            ]
          },
          "metadata": {
            "tags": []
          },
          "execution_count": 13
        }
      ]
    },
    {
      "cell_type": "markdown",
      "metadata": {
        "id": "2pnJe0zomIwZ"
      },
      "source": [
        "## Enable/Disable Hyperspace\n",
        "\n",
        "Hyperspace provides APIs to enable or disable index usage with Spark™.\n",
        "\n",
        "  - By using \"enableHyperspace\" command, Hyperspace optimization rules become visible to the Apache Spark™ optimizer and they will exploit existing Hyperspace indexes to optimize user queries.\n",
        "  - By using \"disableHyperspace' command, Hyperspace rules no longer apply during query optimization. You should note that disabling Hyperspace has no impact on created indexes as they remain intact.\n",
        "\n",
        "Below cell shows how you can use these commands to enable or disable hyperspace. The output simply shows a reference to the existing Spark™ session whose configuration is updated."
      ]
    },
    {
      "cell_type": "code",
      "metadata": {
        "id": "UcR9jaXMmIwa",
        "outputId": "ae0905cb-bae1-444a-e913-5e18651e6473"
      },
      "source": [
        "// Enable Hyperspace\n",
        "spark.enableHyperspace\n",
        "\n",
        "// Disable Hyperspace\n",
        "spark.disableHyperspace"
      ],
      "execution_count": null,
      "outputs": [
        {
          "output_type": "execute_result",
          "data": {
            "text/plain": [
              "res46: org.apache.spark.sql.SparkSession = org.apache.spark.sql.SparkSession@5eda8913\n",
              "res49: org.apache.spark.sql.SparkSession = org.apache.spark.sql.SparkSession@5eda8913"
            ]
          },
          "metadata": {
            "tags": []
          },
          "execution_count": 14
        }
      ]
    },
    {
      "cell_type": "markdown",
      "metadata": {
        "id": "F5Z131XSmIwa"
      },
      "source": [
        "## Index Usage\n",
        "In order to make Spark™ use Hyperspace indexes during query processing, the user needs to make sure that Hyperspace is enabled. \n",
        "\n",
        "The cell below enables Hyperspace and creates two DataFrames containing our sample data records which we use for running example queries. For each DataFrame, a few sample rows are printed."
      ]
    },
    {
      "cell_type": "code",
      "metadata": {
        "id": "rUqBcCysmIwb",
        "outputId": "e8b54484-d249-4099-e6f7-510000246684"
      },
      "source": [
        "// Enable Hyperspace\n",
        "spark.enableHyperspace\n",
        "\n",
        "val empDFrame: DataFrame = spark.read.parquet(empLocation)\n",
        "val deptDFrame: DataFrame = spark.read.parquet(deptLocation)\n",
        "\n",
        "empDFrame.show(5)\n",
        "deptDFrame.show(5)"
      ],
      "execution_count": null,
      "outputs": [
        {
          "output_type": "execute_result",
          "data": {
            "text/plain": [
              "res51: org.apache.spark.sql.SparkSession = org.apache.spark.sql.SparkSession@5eda8913\n",
              "empDFrame: org.apache.spark.sql.DataFrame = [empId: int, empName: string ... 1 more field]\n",
              "deptDFrame: org.apache.spark.sql.DataFrame = [deptId: int, deptName: string ... 1 more field]\n",
              "+-----+-------+------+\n",
              "|empId|empName|deptId|\n",
              "+-----+-------+------+\n",
              "| 7499|  ALLEN|    30|\n",
              "| 7521|   WARD|    30|\n",
              "| 7369|  SMITH|    20|\n",
              "| 7844| TURNER|    30|\n",
              "| 7876|  ADAMS|    20|\n",
              "+-----+-------+------+\n",
              "only showing top 5 rows\n",
              "\n",
              "+------+----------+--------+\n",
              "|deptId|  deptName|location|\n",
              "+------+----------+--------+\n",
              "|    10|Accounting|New York|\n",
              "|    40|Operations|  Boston|\n",
              "|    20|  Research|  Dallas|\n",
              "|    30|     Sales| Chicago|\n",
              "+------+----------+--------+"
            ]
          },
          "metadata": {
            "tags": []
          },
          "execution_count": 15
        }
      ]
    },
    {
      "cell_type": "markdown",
      "metadata": {
        "id": "V9qVm1rXmIwc"
      },
      "source": [
        "# Hyperspace's Index Types\n",
        "\n",
        "Currently, Hyperspace has rules to exploit indexes for two groups of queries: \n",
        "* Selection queries with lookup or range selection filtering predicates.\n",
        "* Join queries with an equality join predicate (i.e. Equi-joins).\n"
      ]
    },
    {
      "cell_type": "markdown",
      "metadata": {
        "id": "5-6-I68ImIwc"
      },
      "source": [
        "## Indexes for Accelerating Filters\n",
        "\n",
        "Our first example query does a lookup on department records (see below cell). In SQL, this query looks as follows:\n",
        "\n",
        "```sql\n",
        "SELECT deptName \n",
        "FROM departments\n",
        "WHERE deptId = 20\n",
        "```\n",
        "\n",
        "The output of running the cell below shows: \n",
        "- query result, which is a single department name.\n",
        "- query plan that Spark™ used to run the query. \n",
        "\n",
        "In the query plan, the \"FileScan\" operator at the bottom of the plan shows the datasource where the records were read from. The location of this file indicates the path to the latest version of the \"deptIndex1\" index. This shows  that according to the query and using Hyperspace optimization rules, Spark™ decided to exploit the proper index at runtime.\n"
      ]
    },
    {
      "cell_type": "code",
      "metadata": {
        "id": "6pYmgHngmIwc",
        "outputId": "9fdf4082-e3b1-4fb1-e2a2-1e244dbbcd71"
      },
      "source": [
        "// Filter with equality predicate\n",
        "\n",
        "val eqFilter: DataFrame = deptDFrame.filter(\"deptId = 20\").select(\"deptName\")\n",
        "eqFilter.show()\n",
        "\n",
        "eqFilter.explain(true)"
      ],
      "execution_count": null,
      "outputs": [
        {
          "output_type": "execute_result",
          "data": {
            "text/plain": [
              "eqFilter: org.apache.spark.sql.DataFrame = [deptName: string]\n",
              "+--------+\n",
              "|deptName|\n",
              "+--------+\n",
              "|Research|\n",
              "+--------+\n",
              "\n",
              "== Parsed Logical Plan ==\n",
              "'Project [unresolvedalias('deptName, None)]\n",
              "+- Filter (deptId#308 = 20)\n",
              "   +- Relation[deptId#308,deptName#309,location#310] parquet\n",
              "\n",
              "== Analyzed Logical Plan ==\n",
              "deptName: string\n",
              "Project [deptName#309]\n",
              "+- Filter (deptId#308 = 20)\n",
              "   +- Relation[deptId#308,deptName#309,location#310] parquet\n",
              "\n",
              "== Optimized Logical Plan ==\n",
              "Project [deptName#309]\n",
              "+- Filter (isnotnull(deptId#308) && (deptId#308 = 20))\n",
              "   +- Relation[deptId#308,deptName#309] parquet\n",
              "\n",
              "== Physical Plan ==\n",
              "*(1) Project [deptName#309]\n",
              "+- *(1) Filter (isnotnull(deptId#308) && (deptId#308 = 20))\n",
              "   +- *(1) FileScan parquet [deptId#308,deptName#309] Batched: true, Format: Parquet, Location: InMemoryFileIndex[abfss://data@mydatalake.dfs.core.windows.net/synapse/workspaces/myworkspace/war..., PartitionFilters: [], PushedFilters: [IsNotNull(deptId), EqualTo(deptId,20)], ReadSchema: struct<deptId:int,deptName:string>"
            ]
          },
          "metadata": {
            "tags": []
          },
          "execution_count": 16
        }
      ]
    },
    {
      "cell_type": "markdown",
      "metadata": {
        "id": "JgzwULuwmIwd"
      },
      "source": [
        "Our second example is a range selection query on department records. In SQL, this query looks as follows:\n",
        "\n",
        "```sql\n",
        "SELECT deptName \n",
        "FROM departments\n",
        "WHERE deptId > 20\"\n",
        "```\n",
        "Similar to our first example, the output of the cell below shows the query results (names of two departments) and the query plan. The location of data file in the FileScan operator shows that 'deptIndex1\" was used to run the query.   \n"
      ]
    },
    {
      "cell_type": "code",
      "metadata": {
        "id": "gO-6vKtkmIwd",
        "outputId": "c9ae1648-71da-48e0-9e76-b9c6534e3956"
      },
      "source": [
        "// Filter with range selection predicate\n",
        "\n",
        "val rangeFilter: DataFrame = deptDFrame.filter(\"deptId > 20\").select(\"deptName\")\n",
        "rangeFilter.show()\n",
        "\n",
        "rangeFilter.explain(true)"
      ],
      "execution_count": null,
      "outputs": [
        {
          "output_type": "execute_result",
          "data": {
            "text/plain": [
              "rangeFilter: org.apache.spark.sql.DataFrame = [deptName: string]\n",
              "+----------+\n",
              "|  deptName|\n",
              "+----------+\n",
              "|Operations|\n",
              "|     Sales|\n",
              "+----------+\n",
              "\n",
              "== Parsed Logical Plan ==\n",
              "'Project [unresolvedalias('deptName, None)]\n",
              "+- Filter (deptId#308 > 20)\n",
              "   +- Relation[deptId#308,deptName#309,location#310] parquet\n",
              "\n",
              "== Analyzed Logical Plan ==\n",
              "deptName: string\n",
              "Project [deptName#309]\n",
              "+- Filter (deptId#308 > 20)\n",
              "   +- Relation[deptId#308,deptName#309,location#310] parquet\n",
              "\n",
              "== Optimized Logical Plan ==\n",
              "Project [deptName#309]\n",
              "+- Filter (isnotnull(deptId#308) && (deptId#308 > 20))\n",
              "   +- Relation[deptId#308,deptName#309] parquet\n",
              "\n",
              "== Physical Plan ==\n",
              "*(1) Project [deptName#309]\n",
              "+- *(1) Filter (isnotnull(deptId#308) && (deptId#308 > 20))\n",
              "   +- *(1) FileScan parquet [deptId#308,deptName#309] Batched: true, Format: Parquet, Location: InMemoryFileIndex[abfss://data@mydatalake.dfs.core.windows.net/synapse/workspaces/myworkspace/war..., PartitionFilters: [], PushedFilters: [IsNotNull(deptId), GreaterThan(deptId,20)], ReadSchema: struct<deptId:int,deptName:string>"
            ]
          },
          "metadata": {
            "tags": []
          },
          "execution_count": 17
        }
      ]
    },
    {
      "cell_type": "markdown",
      "metadata": {
        "id": "6DxJoBbfmIwd"
      },
      "source": [
        "Our third example is a query joining department and employee records on the department id. The equivalent SQL statement is shown below:\n",
        "\n",
        "```sql\n",
        "SELECT employees.deptId, empName, departments.deptId, deptName\n",
        "FROM   employees, departments \n",
        "WHERE  employees.deptId = departments.deptId\"\n",
        "```\n",
        "\n",
        "The output of running the cell below shows the query results which are the names of 14 employees and the name of department each employee works in. The query plan is also included in the output. Notice how the file locations for two FileScan operators shows that Spark™ used \"empIndex\" and \"deptIndex1\" indexes to run the query.   \n"
      ]
    },
    {
      "cell_type": "code",
      "metadata": {
        "id": "Dj59vRq8mIwd",
        "outputId": "b9b50ccc-04bb-4d18-ec49-dcd7c2e16c0c"
      },
      "source": [
        "// Join\n",
        "\n",
        "val eqJoin: DataFrame =\n",
        "      empDFrame.\n",
        "      join(deptDFrame, empDFrame(\"deptId\") === deptDFrame(\"deptId\")).\n",
        "      select(empDFrame(\"empName\"), deptDFrame(\"deptName\"))\n",
        "\n",
        "eqJoin.show()\n",
        "\n",
        "eqJoin.explain(true)"
      ],
      "execution_count": null,
      "outputs": [
        {
          "output_type": "execute_result",
          "data": {
            "text/plain": [
              "eqJoin: org.apache.spark.sql.DataFrame = [empName: string, deptName: string]\n",
              "+-------+----------+\n",
              "|empName|  deptName|\n",
              "+-------+----------+\n",
              "|  ADAMS|  Research|\n",
              "|  SCOTT|  Research|\n",
              "|  SMITH|  Research|\n",
              "|  JONES|  Research|\n",
              "|   FORD|  Research|\n",
              "| MILLER|Accounting|\n",
              "|   KING|Accounting|\n",
              "|  CLARK|Accounting|\n",
              "|  ALLEN|     Sales|\n",
              "|   WARD|     Sales|\n",
              "| TURNER|     Sales|\n",
              "|  JAMES|     Sales|\n",
              "|  BLAKE|     Sales|\n",
              "| MARTIN|     Sales|\n",
              "+-------+----------+\n",
              "\n",
              "== Parsed Logical Plan ==\n",
              "Project [empName#303, deptName#309]\n",
              "+- Join Inner, (deptId#304 = deptId#308)\n",
              "   :- Relation[empId#302,empName#303,deptId#304] parquet\n",
              "   +- Relation[deptId#308,deptName#309,location#310] parquet\n",
              "\n",
              "== Analyzed Logical Plan ==\n",
              "empName: string, deptName: string\n",
              "Project [empName#303, deptName#309]\n",
              "+- Join Inner, (deptId#304 = deptId#308)\n",
              "   :- Relation[empId#302,empName#303,deptId#304] parquet\n",
              "   +- Relation[deptId#308,deptName#309,location#310] parquet\n",
              "\n",
              "== Optimized Logical Plan ==\n",
              "Project [empName#303, deptName#309]\n",
              "+- Join Inner, (deptId#304 = deptId#308)\n",
              "   :- Project [empName#303, deptId#304]\n",
              "   :  +- Filter isnotnull(deptId#304)\n",
              "   :     +- Relation[empName#303,deptId#304] parquet\n",
              "   +- Project [deptId#308, deptName#309]\n",
              "      +- Filter isnotnull(deptId#308)\n",
              "         +- Relation[deptId#308,deptName#309] parquet\n",
              "\n",
              "== Physical Plan ==\n",
              "*(3) Project [empName#303, deptName#309]\n",
              "+- *(3) SortMergeJoin [deptId#304], [deptId#308], Inner\n",
              "   :- *(1) Project [empName#303, deptId#304]\n",
              "   :  +- *(1) Filter isnotnull(deptId#304)\n",
              "   :     +- *(1) FileScan parquet [deptId#304,empName#303] Batched: true, Format: Parquet, Location: InMemoryFileIndex[abfss://data@mydatalake.dfs.core.windows.net/synapse/workspaces/myworkspace/war..., PartitionFilters: [], PushedFilters: [IsNotNull(deptId)], ReadSchema: struct<deptId:int,empName:string>, SelectedBucketsCount: 200 out of 200\n",
              "   +- *(2) Project [deptId#308, deptName#309]\n",
              "      +- *(2) Filter isnotnull(deptId#308)\n",
              "         +- *(2) FileScan parquet [deptId#308,deptName#309] Batched: true, Format: Parquet, Location: InMemoryFileIndex[abfss://data@mydatalake.dfs.core.windows.net/synapse/workspaces/myworkspace/war..., PartitionFilters: [], PushedFilters: [IsNotNull(deptId)], ReadSchema: struct<deptId:int,deptName:string>, SelectedBucketsCount: 200 out of 200"
            ]
          },
          "metadata": {
            "tags": []
          },
          "execution_count": 18
        }
      ]
    },
    {
      "cell_type": "markdown",
      "metadata": {
        "id": "w9snHaI7mIwe"
      },
      "source": [
        "## Support for SQL Semantics\n",
        "\n",
        "The index usage is transparent to whether the user uses DataFrame API or Spark™ SQL. The following example shows the same join example as before, in sql form, showing the use of indexes if applicable."
      ]
    },
    {
      "cell_type": "code",
      "metadata": {
        "id": "AD_A1WMDmIwe",
        "outputId": "dbaff504-824e-4675-c244-e092a338430b"
      },
      "source": [
        "empDFrame.createOrReplaceTempView(\"EMP\")\n",
        "deptDFrame.createOrReplaceTempView(\"DEPT\")\n",
        "\n",
        "val joinQuery = spark.sql(\"SELECT EMP.empName, DEPT.deptName FROM EMP, DEPT WHERE EMP.deptId = DEPT.deptId\")\n",
        "\n",
        "joinQuery.show()\n",
        "joinQuery.explain(true)"
      ],
      "execution_count": null,
      "outputs": [
        {
          "output_type": "execute_result",
          "data": {
            "text/plain": [
              "joinQuery: org.apache.spark.sql.DataFrame = [empName: string, deptName: string]\n",
              "+-------+----------+\n",
              "|empName|  deptName|\n",
              "+-------+----------+\n",
              "|  ADAMS|  Research|\n",
              "|  SCOTT|  Research|\n",
              "|  SMITH|  Research|\n",
              "|  JONES|  Research|\n",
              "|   FORD|  Research|\n",
              "| MILLER|Accounting|\n",
              "|   KING|Accounting|\n",
              "|  CLARK|Accounting|\n",
              "|  ALLEN|     Sales|\n",
              "|   WARD|     Sales|\n",
              "| TURNER|     Sales|\n",
              "|  JAMES|     Sales|\n",
              "|  BLAKE|     Sales|\n",
              "| MARTIN|     Sales|\n",
              "+-------+----------+\n",
              "\n",
              "== Parsed Logical Plan ==\n",
              "'Project ['EMP.empName, 'DEPT.deptName]\n",
              "+- 'Filter ('EMP.deptId = 'DEPT.deptId)\n",
              "   +- 'Join Inner\n",
              "      :- 'UnresolvedRelation `EMP`\n",
              "      +- 'UnresolvedRelation `DEPT`\n",
              "\n",
              "== Analyzed Logical Plan ==\n",
              "empName: string, deptName: string\n",
              "Project [empName#303, deptName#309]\n",
              "+- Filter (deptId#304 = deptId#308)\n",
              "   +- Join Inner\n",
              "      :- SubqueryAlias `emp`\n",
              "      :  +- Relation[empId#302,empName#303,deptId#304] parquet\n",
              "      +- SubqueryAlias `dept`\n",
              "         +- Relation[deptId#308,deptName#309,location#310] parquet\n",
              "\n",
              "== Optimized Logical Plan ==\n",
              "Project [empName#303, deptName#309]\n",
              "+- Join Inner, (deptId#304 = deptId#308)\n",
              "   :- Project [empName#303, deptId#304]\n",
              "   :  +- Filter isnotnull(deptId#304)\n",
              "   :     +- Relation[empName#303,deptId#304] parquet\n",
              "   +- Project [deptId#308, deptName#309]\n",
              "      +- Filter isnotnull(deptId#308)\n",
              "         +- Relation[deptId#308,deptName#309] parquet\n",
              "\n",
              "== Physical Plan ==\n",
              "*(3) Project [empName#303, deptName#309]\n",
              "+- *(3) SortMergeJoin [deptId#304], [deptId#308], Inner\n",
              "   :- *(1) Project [empName#303, deptId#304]\n",
              "   :  +- *(1) Filter isnotnull(deptId#304)\n",
              "   :     +- *(1) FileScan parquet [deptId#304,empName#303] Batched: true, Format: Parquet, Location: InMemoryFileIndex[abfss://data@mydatalake.dfs.core.windows.net/synapse/workspaces/myworkspace/war..., PartitionFilters: [], PushedFilters: [IsNotNull(deptId)], ReadSchema: struct<deptId:int,empName:string>, SelectedBucketsCount: 200 out of 200\n",
              "   +- *(2) Project [deptId#308, deptName#309]\n",
              "      +- *(2) Filter isnotnull(deptId#308)\n",
              "         +- *(2) FileScan parquet [deptId#308,deptName#309] Batched: true, Format: Parquet, Location: InMemoryFileIndex[abfss://data@mydatalake.dfs.core.windows.net/synapse/workspaces/myworkspace/war..., PartitionFilters: [], PushedFilters: [IsNotNull(deptId)], ReadSchema: struct<deptId:int,deptName:string>, SelectedBucketsCount: 200 out of 200"
            ]
          },
          "metadata": {
            "tags": []
          },
          "execution_count": 19
        }
      ]
    },
    {
      "cell_type": "markdown",
      "metadata": {
        "id": "e8qvWeKpmIwe"
      },
      "source": [
        "## Explain API\n",
        "Indexes are great but how do you know if they are being used? Hyperspace allows users to compare their original plan vs the updated index-dependent plan before running their query. You have an option to choose from html/plaintext/console mode to display the command output. \n",
        "\n",
        "The following cell shows an example with HTML. The highlighted section represents the difference between original and updated plans along with the indexes being used."
      ]
    },
    {
      "cell_type": "code",
      "metadata": {
        "id": "Z7bAcHogmIwf",
        "outputId": "24d9965b-ee41-4d11-8d9d-90acb4ebee70"
      },
      "source": [
        "spark.conf.set(\"spark.hyperspace.explain.displayMode\", \"html\")\n",
        "hyperspace.explain(eqJoin)(displayHTML(_))"
      ],
      "execution_count": null,
      "outputs": [
        {
          "output_type": "execute_result",
          "data": {
            "text/html": [
              "<pre>=============================================================<br>Plan with indexes:<br>=============================================================<br>Project [empName#303, deptName#309]<br>+- SortMergeJoin [deptId#304], [deptId#308], Inner<br>   <b style=\"background:LightGreen\">:- *(1) Project [empName#303, deptId#304]</b><br>   <b style=\"background:LightGreen\">:  +- *(1) Filter isnotnull(deptId#304)</b><br>   <b style=\"background:LightGreen\">:     +- *(1) FileScan parquet [deptId#304,empName#303] Batched: true, Format: Parquet, Location: InMemoryFileIndex[abfss://data@mydatalake.dfs.core.windows.net/synapse/workspaces/myworkspace/war..., PartitionFilters: [], PushedFilters: [IsNotNull(deptId)], ReadSchema: struct<deptId:int,empName:string>, SelectedBucketsCount: 200 out of 200</b><br>   <b style=\"background:LightGreen\">+- *(2) Project [deptId#308, deptName#309]</b><br>      <b style=\"background:LightGreen\">+- *(2) Filter isnotnull(deptId#308)</b><br>         <b style=\"background:LightGreen\">+- *(2) FileScan parquet [deptId#308,deptName#309] Batched: true, Format: Parquet, Location: InMemoryFileIndex[abfss://data@mydatalake.dfs.core.windows.net/synapse/workspaces/myworkspace/war..., PartitionFilters: [], PushedFilters: [IsNotNull(deptId)], ReadSchema: struct<deptId:int,deptName:string>, SelectedBucketsCount: 200 out of 200</b><br><br>=============================================================<br>Plan without indexes:<br>=============================================================<br>Project [empName#303, deptName#309]<br>+- SortMergeJoin [deptId#304], [deptId#308], Inner<br>   <b style=\"background:LightGreen\">:- *(2) Sort [deptId#304 ASC NULLS FIRST], false, 0</b><br>   <b style=\"background:LightGreen\">:  +- Exchange hashpartitioning(deptId#304, 200), [id=#245]</b><br>   <b style=\"background:LightGreen\">:     +- *(1) Project [empName#303, deptId#304]</b><br>   <b style=\"background:LightGreen\">:        +- *(1) Filter isnotnull(deptId#304)</b><br>   <b style=\"background:LightGreen\">:           +- *(1) FileScan parquet [empName#303,deptId#304] Batched: true, Format: Parquet, Location: InMemoryFileIndex[abfss://data@mydatalake.dfs.core.windows.net/<yourpath>/employees.parquet], PartitionFilters: [], PushedFilters: [IsNotNull(deptId)], ReadSchema: struct<empName:string,deptId:int></b><br>   <b style=\"background:LightGreen\">+- *(4) Sort [deptId#308 ASC NULLS FIRST], false, 0</b><br>      <b style=\"background:LightGreen\">+- Exchange hashpartitioning(deptId#308, 200), [id=#251]</b><br>         <b style=\"background:LightGreen\">+- *(3) Project [deptId#308, deptName#309]</b><br>            <b style=\"background:LightGreen\">+- *(3) Filter isnotnull(deptId#308)</b><br>               <b style=\"background:LightGreen\">+- *(3) FileScan parquet [deptId#308,deptName#309] Batched: true, Format: Parquet, Location: InMemoryFileIndex[abfss://data@mydatalake.dfs.core.windows.net/<yourpath>/departments.parquet], PartitionFilters: [], PushedFilters: [IsNotNull(deptId)], ReadSchema: struct<deptId:int,deptName:string></b><br><br>=============================================================<br>Indexes used:<br>=============================================================<br>deptIndex1:abfss://data@mydatalake.dfs.core.windows.net/synapse/workspaces/myworkspace/warehouse/indexes/deptIndex1/v__=0<br>empIndex:abfss://data@mydatalake.dfs.core.windows.net/synapse/workspaces/myworkspace/warehouse/indexes/empIndex/v__=0<br><br></pre>"
            ]
          },
          "metadata": {
            "tags": []
          },
          "execution_count": 20
        }
      ]
    },
    {
      "cell_type": "markdown",
      "metadata": {
        "id": "trcx-EaamIwf"
      },
      "source": [
        "## Refresh Indexes\n",
        "If the original data on which an index was created changes, then the index will no longer capture the latest state of data. The user can refresh such a stale index using \"refreshIndex\" command. This causes the index to be fully rebuilt and updates it according to the latest data records (don't worry, we will show you how to *incrementally refresh* your index in other notebooks).\n",
        "\n",
        "The two cells below show an example for this scenario:\n",
        "- First cell adds two more departments to the original departments data. It reads and prints list of departments to verify new departments are added correctly. The output shows 6 departments in total: four old ones and two new. Invoking \"refreshIndex\" updates \"deptIndex1\" so index captures new departments.\n",
        "- Second cell runs our range selection query example. The results should now contain four departments: two are the ones, seen before when we ran the query above, and two are the new departments we just added."
      ]
    },
    {
      "cell_type": "code",
      "metadata": {
        "id": "bGFKiw-VmIwf",
        "outputId": "fe5ca04c-67da-4386-9254-4e3b78dfed37"
      },
      "source": [
        "val extraDepartments = Seq(\n",
        "      (50, \"Inovation\", \"Seattle\"),\n",
        "\t  (60, \"Human Resources\", \"San Francisco\"))\n",
        "\t  \n",
        "val extraDeptData: DataFrame = extraDepartments.toDF(\"deptId\", \"deptName\", \"location\")\n",
        "extraDeptData.write.mode(\"Append\").parquet(deptLocation)\n",
        "\n",
        "val deptDFrameUpdated: DataFrame = spark.read.parquet(deptLocation)\n",
        "\n",
        "deptDFrameUpdated.show(10)\n",
        "\n",
        "hyperspace.refreshIndex(\"deptIndex1\")"
      ],
      "execution_count": null,
      "outputs": [
        {
          "output_type": "execute_result",
          "data": {
            "text/plain": [
              "extraDepartments: Seq[(Int, String, String)] = List((50,Inovation,Seattle), (60,Human Resources,San Francisco))\n",
              "extraDeptData: org.apache.spark.sql.DataFrame = [deptId: int, deptName: string ... 1 more field]\n",
              "deptDFrameUpdated: org.apache.spark.sql.DataFrame = [deptId: int, deptName: string ... 1 more field]\n",
              "+------+---------------+-------------+\n",
              "|deptId|       deptName|     location|\n",
              "+------+---------------+-------------+\n",
              "|    60|Human Resources|San Francisco|\n",
              "|    10|     Accounting|     New York|\n",
              "|    50|      Inovation|      Seattle|\n",
              "|    40|     Operations|       Boston|\n",
              "|    20|       Research|       Dallas|\n",
              "|    30|          Sales|      Chicago|\n",
              "+------+---------------+-------------+"
            ]
          },
          "metadata": {
            "tags": []
          },
          "execution_count": 21
        }
      ]
    },
    {
      "cell_type": "code",
      "metadata": {
        "id": "MjmY-tyAmIwf",
        "outputId": "3a732cae-22e3-47b3-cc39-c816392d764a"
      },
      "source": [
        "val newRangeFilter: DataFrame = deptDFrameUpdated.filter(\"deptId > 20\").select(\"deptName\")\n",
        "newRangeFilter.show()\n",
        "\n",
        "newRangeFilter.explain(true)"
      ],
      "execution_count": null,
      "outputs": [
        {
          "output_type": "execute_result",
          "data": {
            "text/plain": [
              "newRangeFilter: org.apache.spark.sql.DataFrame = [deptName: string]\n",
              "+---------------+\n",
              "|       deptName|\n",
              "+---------------+\n",
              "|Human Resources|\n",
              "|      Inovation|\n",
              "|     Operations|\n",
              "|          Sales|\n",
              "+---------------+\n",
              "\n",
              "== Parsed Logical Plan ==\n",
              "'Project [unresolvedalias('deptName, None)]\n",
              "+- Filter (deptId#423 > 20)\n",
              "   +- Relation[deptId#423,deptName#424,location#425] parquet\n",
              "\n",
              "== Analyzed Logical Plan ==\n",
              "deptName: string\n",
              "Project [deptName#424]\n",
              "+- Filter (deptId#423 > 20)\n",
              "   +- Relation[deptId#423,deptName#424,location#425] parquet\n",
              "\n",
              "== Optimized Logical Plan ==\n",
              "Project [deptName#424]\n",
              "+- Filter (isnotnull(deptId#423) && (deptId#423 > 20))\n",
              "   +- Relation[deptId#423,deptName#424] parquet\n",
              "\n",
              "== Physical Plan ==\n",
              "*(1) Project [deptName#424]\n",
              "+- *(1) Filter (isnotnull(deptId#423) && (deptId#423 > 20))\n",
              "   +- *(1) FileScan parquet [deptId#423,deptName#424] Batched: true, Format: Parquet, Location: InMemoryFileIndex[abfss://data@mydatalake.dfs.core.windows.net/synapse/workspaces/myworkspace/war..., PartitionFilters: [], PushedFilters: [IsNotNull(deptId), GreaterThan(deptId,20)], ReadSchema: struct<deptId:int,deptName:string>"
            ]
          },
          "metadata": {
            "tags": []
          },
          "execution_count": 22
        }
      ]
    },
    {
      "cell_type": "code",
      "metadata": {
        "id": "qziISAwQmIwg"
      },
      "source": [
        "// Clean-up the remaining indexes\n",
        "hyperspace.deleteIndex(\"empIndex\")\n",
        "hyperspace.deleteIndex(\"deptIndex1\")\n",
        "\n",
        "hyperspace.vacuumIndex(\"empIndex\")\n",
        "hyperspace.vacuumIndex(\"deptIndex1\")"
      ],
      "execution_count": null,
      "outputs": []
    }
  ]
}